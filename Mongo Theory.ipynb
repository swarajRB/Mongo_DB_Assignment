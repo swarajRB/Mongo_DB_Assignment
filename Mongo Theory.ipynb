{
 "cells": [
  {
   "cell_type": "markdown",
   "metadata": {},
   "source": [
    "---\n",
    "\n",
    "# Mongo DB Theory Assignment \n",
    "\n",
    "---"
   ]
  },
  {
   "cell_type": "markdown",
   "metadata": {},
   "source": [
    "\n",
    "### **1. Key Differences Between SQL and NoSQL Databases**\n",
    "\n",
    "\n",
    "| Feature           | SQL (Relational) | NoSQL (MongoDB) |\n",
    "|------------------|-----------------|-----------------|\n",
    "| **Structure**     | Tables with rows & columns | Collections with documents (JSON-like) |\n",
    "| **Schema**        | Fixed schema | Schema-less (Flexible) |\n",
    "| **Scalability**   | Vertical scaling | Horizontal scaling (Sharding) |\n",
    "| **Query Language** | SQL (Structured Query Language) | Query language based on JSON-like syntax |\n",
    "| **Transactions**  | ACID-compliant | Supports transactions but not as strict |\n",
    "| **Use Cases**     | Traditional apps (ERP, banking) | Big Data, real-time analytics, distributed apps |"
   ]
  },
  {
   "cell_type": "markdown",
   "metadata": {},
   "source": [
    "\n",
    "### **2. What Makes MongoDB a Good Choice for Modern Applications?**\n",
    "\n",
    "- **Schema Flexibility**: JSON-like documents allow dynamic fields.\n",
    "\n",
    "- **Scalability**: Supports horizontal scaling via **sharding**.\n",
    "\n",
    "- **High Availability**: Uses **replica sets** for failover.\n",
    "\n",
    "- **Fast Reads & Writes**: Optimized for high-speed data access.\n",
    "\n",
    "- **Geospatial & Full-text Search**: Built-in search features."
   ]
  },
  {
   "cell_type": "markdown",
   "metadata": {},
   "source": [
    "### **3. Concept of Collections in MongoDB**\n",
    "\n",
    "- A **collection** in MongoDB is similar to a **table** in SQL.\n",
    "\n",
    "- Stores multiple documents (like JSON objects).\n",
    "\n",
    "- Collections **don’t require a fixed schema**, allowing flexibility.\n",
    "\n",
    "- Example:\n",
    "  ```json\n",
    "  { \"name\": \"Alice\", \"age\": 25, \"city\": \"New York\" }\n",
    "  ```\n"
   ]
  },
  {
   "cell_type": "markdown",
   "metadata": {},
   "source": [
    "\n",
    "### **4. How Does MongoDB Ensure High Availability Using Replication?**\n",
    "\n",
    "- **Replication** is handled by **Replica Sets** (a group of MongoDB servers).\n",
    "\n",
    "- **One Primary Node**: Handles all writes and reads (by default).\n",
    "\n",
    "- **Multiple Secondary Nodes**: Syncs data from primary and acts as backups.\n",
    "\n",
    "- **Automatic Failover**: If the primary node fails, a secondary node is elected as the new primary."
   ]
  },
  {
   "cell_type": "markdown",
   "metadata": {},
   "source": [
    "### **5. Main Benefits of MongoDB Atlas**\n",
    "\n",
    "- **Managed Database**: No need to handle setup, security, or backups.\n",
    "\n",
    "- **Auto-Scaling**: Adjusts resources based on demand.\n",
    "\n",
    "- **Global Distribution**: Deploy in multiple cloud regions.\n",
    "\n",
    "- **Automated Backups & Security**: Encryption, access control, and backups.\n"
   ]
  },
  {
   "cell_type": "markdown",
   "metadata": {},
   "source": [
    "---"
   ]
  },
  {
   "cell_type": "markdown",
   "metadata": {},
   "source": [
    "\n",
    "### **6. Role of Indexes in MongoDB**\n",
    "\n",
    "- **Indexes speed up queries** by allowing MongoDB to find data faster.\n",
    "\n",
    "- Without indexes, MongoDB scans every document (slow).\n",
    "\n",
    "- Example: Creating an index on the `name` field:\n",
    "\n",
    "  ```python\n",
    "  db.users.create_index([(\"name\", 1)])  # 1 for ascending, -1 for descending\n",
    "  ```"
   ]
  },
  {
   "cell_type": "markdown",
   "metadata": {},
   "source": [
    "### **7. Stages of the MongoDB Aggregation Pipeline**\n",
    "\n",
    "- **$match** → Filters documents.\n",
    "\n",
    "- **$group** → Groups data.\n",
    "\n",
    "- **$project** → Reshapes documents.\n",
    "\n",
    "- **$sort** → Sorts results.\n",
    "\n",
    "- **$limit / $skip** → Pagination.\n",
    "\n",
    "\n",
    "\n",
    "Example:\n",
    "```json\n",
    "db.sales.aggregate([\n",
    "    { \"$match\": { \"category\": \"Electronics\" } },\n",
    "    { \"$group\": { \"_id\": \"$brand\", \"total_sales\": { \"$sum\": \"$price\" } } },\n",
    "    { \"$sort\": { \"total_sales\": -1 } }\n",
    "])"
   ]
  },
  {
   "cell_type": "markdown",
   "metadata": {},
   "source": [
    "\n",
    "\n",
    "### **8. What is Sharding in MongoDB?**\n",
    "\n",
    "- **Sharding** is splitting large datasets across multiple servers.\n",
    "\n",
    "- Uses **Shard Keys** to distribute data.\n",
    "\n",
    "- **Different from Replication**: Replication copies data for backup, sharding distributes data for performance."
   ]
  },
  {
   "cell_type": "markdown",
   "metadata": {},
   "source": [
    "### **9. What is PyMongo, and Why is it Used?**\n",
    "\n",
    "- **PyMongo** is the Python driver for MongoDB.\n",
    "\n",
    "- Used to connect and interact with MongoDB from Python.\n",
    "\n",
    "- Example:\n",
    "  ```python\n",
    "  from pymongo import MongoClient\n",
    "  client = MongoClient(\"mongodb://localhost:27017/\")\n",
    "  db = client[\"mydatabase\"]\n",
    "  collection = db[\"users\"]\n",
    "  ```"
   ]
  },
  {
   "cell_type": "markdown",
   "metadata": {},
   "source": [
    "\n",
    "### **10. ACID Properties in MongoDB Transactions**\n",
    "\n",
    "- **Atomicity**: Operations are completed fully or not at all.\n",
    "\n",
    "- **Consistency**: Data remains valid before/after a transaction.\n",
    "\n",
    "- **Isolation**: Transactions run independently.\n",
    "\n",
    "- **Durability**: Changes are permanent once committed.\n"
   ]
  },
  {
   "cell_type": "markdown",
   "metadata": {},
   "source": [
    "---"
   ]
  },
  {
   "cell_type": "markdown",
   "metadata": {},
   "source": [
    "\n",
    "### **11. Purpose of MongoDB’s `explain()` Function**\n",
    "\n",
    "- Helps analyze **query performance**.\n",
    "\n",
    "- Shows **execution plan**, index usage, and query time.\n",
    "\n",
    "- Example:\n",
    "  ```python\n",
    "  db.users.find({\"age\": 25}).explain(\"executionStats\")\n",
    "  ```\n"
   ]
  },
  {
   "cell_type": "markdown",
   "metadata": {},
   "source": [
    "\n",
    "### **12. How Does MongoDB Handle Schema Validation?**\n",
    "\n",
    "- Uses **JSON Schema** to enforce rules.\n",
    "\n",
    "\n",
    "- Example:\n",
    "  ```json\n",
    "  db.createCollection(\"users\", {\n",
    "      \"validator\": {\n",
    "          \"$jsonSchema\": {\n",
    "              \"bsonType\": \"object\",\n",
    "              \"required\": [\"name\", \"email\"],\n",
    "              \"properties\": {\n",
    "                  \"name\": { \"bsonType\": \"string\" },\n",
    "                  \"email\": { \"bsonType\": \"string\", \"pattern\": \".+@.+\" }\n",
    "              }\n",
    "          }\n",
    "      }\n",
    "  })\n",
    "  ```"
   ]
  },
  {
   "cell_type": "markdown",
   "metadata": {},
   "source": [
    "\n",
    "### **13. Difference Between Primary and Secondary Nodes in a Replica Set**\n",
    "\n",
    "\n",
    "| Feature  | Primary Node | Secondary Node |\n",
    "|----------|-------------|---------------|\n",
    "| **Role** | Handles writes & reads | Only syncs data, can serve reads |\n",
    "| **Failover** | Elected in case of failure | Can become primary if needed |\n"
   ]
  },
  {
   "cell_type": "markdown",
   "metadata": {},
   "source": [
    "\n",
    "### **14. Security Mechanisms in MongoDB**\n",
    "\n",
    "- **Authentication**: Username-password, LDAP, SCRAM.\n",
    "\n",
    "- **Authorization**: Role-based access control (RBAC).\n",
    "\n",
    "- **Encryption**: TLS/SSL for secure connections.\n",
    "\n",
    "- **Auditing**: Logs all user actions.\n"
   ]
  },
  {
   "cell_type": "markdown",
   "metadata": {},
   "source": [
    "\n",
    "### **15. What are Embedded Documents?**\n",
    "\n",
    "- Store **related data inside a single document** instead of using joins.\n",
    "\n",
    "- Example:\n",
    "  ```json\n",
    "  {\n",
    "      \"name\": \"Alice\",\n",
    "      \"address\": {\n",
    "          \"city\": \"New York\",\n",
    "          \"zip\": \"10001\"\n",
    "      }\n",
    "  }\n",
    "  ```\n",
    "- **Use When**: Data is tightly related (e.g., user and address).\n"
   ]
  },
  {
   "cell_type": "markdown",
   "metadata": {},
   "source": [
    "---"
   ]
  },
  {
   "cell_type": "markdown",
   "metadata": {},
   "source": [
    "### 16. Purpose of $lookup in Aggregation\n",
    "\n",
    "- The $lookup stage in MongoDB is used for performing left outer joins between two collections. \n",
    "- It retrieves matching documents from another collection and embeds them as an array. This is useful for combining related data without duplicating it, similar to SQL joins.\n",
    "\n",
    "- Example Use Case: Fetching customer details in an Orders collection by matching customer_id with _id in the Customers collection.\n",
    "\n",
    "- It improves data retrieval efficiency but may increase memory usage if large datasets are joined. "
   ]
  },
  {
   "cell_type": "markdown",
   "metadata": {},
   "source": [
    "### **17. Common Use Cases for MongoDB**\n",
    "\n",
    "- **Big Data applications**\n",
    "\n",
    "- **Real-time analytics**\n",
    "\n",
    "- **IoT applications**\n",
    "\n",
    "- **E-commerce platforms**\n"
   ]
  },
  {
   "cell_type": "markdown",
   "metadata": {},
   "source": [
    "### **18. Advantages of Horizontal Scaling in MongoDB**\n",
    "\n",
    "- Distributes data across multiple machines.\n",
    "\n",
    "- Increases query performance.\n",
    "\n",
    "- Supports high-traffic applications."
   ]
  },
  {
   "cell_type": "markdown",
   "metadata": {},
   "source": [
    "### **19. How Do MongoDB Transactions Differ from SQL Transactions?**\n",
    "\n",
    "- **SQL**: Transactions are default and ACID-compliant.\n",
    "\n",
    "- **MongoDB**: Transactions are **not required for most operations** but are available for multi-document updates."
   ]
  },
  {
   "cell_type": "markdown",
   "metadata": {},
   "source": [
    "### **20. Capped Collections vs. Regular Collections**\n",
    "\n",
    "| Feature | Capped Collection | Regular Collection |\n",
    "|---------|------------------|------------------|\n",
    "| **Size** | Fixed | Grows dynamically |\n",
    "| **Deletion** | Auto-removal of old records | Manual deletion required |\n",
    "| **Use Case** | Logging, caching | General-purpose storage |\n"
   ]
  },
  {
   "cell_type": "markdown",
   "metadata": {},
   "source": [
    "---"
   ]
  },
  {
   "cell_type": "markdown",
   "metadata": {},
   "source": [
    "\n",
    "### **21. Purpose of `$match` in Aggregation**\n",
    "\n",
    "- Works like `WHERE` in SQL.\n",
    "\n",
    "- Filters documents before further processing.\n",
    "\n",
    "- Example:\n",
    "  ```json\n",
    "  db.sales.aggregate([{ \"$match\": { \"category\": \"Electronics\" } }])\n",
    "  ```"
   ]
  },
  {
   "cell_type": "markdown",
   "metadata": {},
   "source": [
    "\n",
    "\n",
    "### **22. How to Secure Access to a MongoDB Database**\n",
    "\n",
    "- Enable **authentication**.\n",
    "\n",
    "- Restrict access using **IP whitelisting**.\n",
    "\n",
    "- Use **TLS/SSL encryption**.\n"
   ]
  },
  {
   "cell_type": "markdown",
   "metadata": {},
   "source": [
    "\n",
    "### **23. What is the WiredTiger Storage Engine?**\n",
    "\n",
    "- Default storage engine in MongoDB.\n",
    "\n",
    "- Provides **compression, concurrency, and durability**.\n",
    "\n",
    "- **Improves performance** compared to older engines.\n"
   ]
  },
  {
   "cell_type": "markdown",
   "metadata": {},
   "source": [
    "---"
   ]
  },
  {
   "cell_type": "markdown",
   "metadata": {},
   "source": [
    "----"
   ]
  },
  {
   "cell_type": "markdown",
   "metadata": {},
   "source": []
  }
 ],
 "metadata": {
  "language_info": {
   "name": "python"
  }
 },
 "nbformat": 4,
 "nbformat_minor": 2
}
