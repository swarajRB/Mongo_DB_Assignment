{
  "cells": [
    {
      "cell_type": "markdown",
      "metadata": {},
      "source": [
        "# Practical Question Answers\n",
        "---"
      ]
    },
    {
      "cell_type": "code",
      "execution_count": 1,
      "metadata": {
        "colab": {
          "base_uri": "https://localhost:8080/"
        },
        "id": "8xDKN2dKl1C3",
        "outputId": "f64fac1e-dc7c-441e-bd0a-f2b1283d1251"
      },
      "outputs": [],
      "source": [
        "# !pip install pymongo "
      ]
    },
    {
      "cell_type": "code",
      "execution_count": 2,
      "metadata": {},
      "outputs": [],
      "source": [
        "import pandas as pd\n",
        "from pymongo import MongoClient\n",
        "import numpy as np\n",
        "import matplotlib.pyplot as plt\n"
      ]
    },
    {
      "cell_type": "markdown",
      "metadata": {},
      "source": [
        "## 1. Load the Superstore dataset into MongoDB"
      ]
    },
    {
      "cell_type": "code",
      "execution_count": 3,
      "metadata": {
        "id": "Ul_9Lt_6mu3X"
      },
      "outputs": [
        {
          "name": "stdout",
          "output_type": "stream",
          "text": [
            "Data loaded into MongoDB.\n"
          ]
        }
      ],
      "source": [
        "\n",
        "def load_csv_to_mongodb(csv_path, db_name, collection_name):\n",
        "    client = MongoClient(\"mongodb://localhost:27017/\")\n",
        "    db = client[db_name]\n",
        "    collection = db[collection_name]\n",
        "\n",
        "    data = pd.read_csv('superstore.csv', encoding='latin-1')\n",
        "    collection.insert_many(data.to_dict(\"records\"))\n",
        "print(\"Data loaded into MongoDB.\")\n",
        "\n"
      ]
    },
    {
      "cell_type": "markdown",
      "metadata": {},
      "source": [
        "## 2. Retrieve and print all documents from the Orders collection"
      ]
    },
    {
      "cell_type": "code",
      "execution_count": 4,
      "metadata": {
        "id": "uN_7Mw3OlqSK"
      },
      "outputs": [],
      "source": [
        "def print_all_documents(db_name, collection_name):\n",
        "    client = MongoClient(\"mongodb://localhost:27017/\")\n",
        "    collection = client[db_name][collection_name]\n",
        "\n",
        "    for doc in collection.find():\n",
        "        print(doc)\n"
      ]
    },
    {
      "cell_type": "markdown",
      "metadata": {},
      "source": [
        "## 3. Count and display the total number of documents in the Orders collection"
      ]
    },
    {
      "cell_type": "code",
      "execution_count": null,
      "metadata": {
        "id": "NXAhP11ym61Q"
      },
      "outputs": [],
      "source": [
        "def count_documents(db_name, collection_name):\n",
        "    client = MongoClient(\"mongodb://localhost:27017/\")\n",
        "    collection = client[db_name][collection_name]\n",
        "\n",
        "    count = collection.count_documents({})\n",
        "\n",
        "    print(f\"Total documents: {count}\")"
      ]
    },
    {
      "cell_type": "markdown",
      "metadata": {},
      "source": [
        "## 4. Fetch all orders from the \"West\" region\n"
      ]
    },
    {
      "cell_type": "code",
      "execution_count": 6,
      "metadata": {
        "id": "mM9bmfn1m_hQ"
      },
      "outputs": [],
      "source": [
        "def fetch_orders_from_region(db_name, collection_name, region):\n",
        "    client = MongoClient(\"mongodb://localhost:27017/\")\n",
        "    collection = client[db_name][collection_name]\n",
        "    results = collection.find({\"Region\": region})\n",
        "    for doc in results:\n",
        "        print(doc)"
      ]
    },
    {
      "cell_type": "markdown",
      "metadata": {},
      "source": [
        "## 5. Find orders where Sales > 500\n"
      ]
    },
    {
      "cell_type": "code",
      "execution_count": 7,
      "metadata": {
        "id": "TYs5OyoznBy9"
      },
      "outputs": [],
      "source": [
        "def fetch_orders_sales_gt(db_name, collection_name, sales_value):\n",
        "    client = MongoClient(\"mongodb://localhost:27017/\")\n",
        "    collection = client[db_name][collection_name]\n",
        "    results = collection.find({\"Sales\": {\"$gt\": sales_value}})\n",
        "    for doc in results:\n",
        "        print(doc)"
      ]
    },
    {
      "cell_type": "markdown",
      "metadata": {},
      "source": [
        "## 6. Fetch top 3 orders with the highest Profit\n"
      ]
    },
    {
      "cell_type": "code",
      "execution_count": 8,
      "metadata": {
        "id": "lFFvyondnEFs"
      },
      "outputs": [],
      "source": [
        "def fetch_top_profit_orders(db_name, collection_name, top_n=3):\n",
        "    client = MongoClient(\"mongodb://localhost:27017/\")\n",
        "    collection = client[db_name][collection_name]\n",
        "    results = collection.find().sort(\"Profit\", -1).limit(top_n)\n",
        "    for doc in results:\n",
        "        print(doc)"
      ]
    },
    {
      "cell_type": "markdown",
      "metadata": {},
      "source": [
        "## 7. Update Ship Mode from \"First Class\" to \"Premium Class\"\n"
      ]
    },
    {
      "cell_type": "code",
      "execution_count": 9,
      "metadata": {
        "id": "KqvXJ1FrnGsS"
      },
      "outputs": [
        {
          "name": "stdout",
          "output_type": "stream",
          "text": [
            "Updated Ship Mode from 'First Class' to 'Premium Class'.\n"
          ]
        }
      ],
      "source": [
        "def update_ship_mode(db_name, collection_name):\n",
        "    client = MongoClient(\"mongodb://localhost:27017/\")\n",
        "    collection = client[db_name][collection_name]\n",
        "    collection.update_many({\"Ship Mode\": \"First Class\"}, {\"$set\": {\"Ship Mode\": \"Premium Class\"}})\n",
        "print(\"Updated Ship Mode from 'First Class' to 'Premium Class'.\")"
      ]
    },
    {
      "cell_type": "markdown",
      "metadata": {},
      "source": [
        "## 8. Delete all orders where Sales < 50"
      ]
    },
    {
      "cell_type": "code",
      "execution_count": 10,
      "metadata": {
        "id": "NJ6acvTWnJ26"
      },
      "outputs": [],
      "source": [
        "def delete_low_sales_orders(db_name, collection_name, sales_value):\n",
        "    client = MongoClient(\"mongodb://localhost:27017/\")\n",
        "    collection = client[db_name][collection_name]\n",
        "    result = collection.delete_many({\"Sales\": {\"$lt\": sales_value}})\n",
        "    print(f\"Deleted {result.deleted_count} documents where Sales < {sales_value}.\")"
      ]
    },
    {
      "cell_type": "markdown",
      "metadata": {},
      "source": [
        "## 9. Use aggregation to group orders by Region and calculate total sales per region\n"
      ]
    },
    {
      "cell_type": "code",
      "execution_count": 11,
      "metadata": {
        "id": "RNahQGEEnMjp"
      },
      "outputs": [],
      "source": [
        "def calculate_sales_per_region(db_name, collection_name):\n",
        "    client = MongoClient(\"mongodb://localhost:27017/\")\n",
        "    collection = client[db_name][collection_name]\n",
        "    pipeline = [\n",
        "        {\"$group\": {\"_id\": \"$Region\", \"TotalSales\": {\"$sum\": \"$Sales\"}}},\n",
        "        {\"$sort\": {\"TotalSales\": -1}}\n",
        "    ]\n",
        "    results = collection.aggregate(pipeline)\n",
        "    for result in results:\n",
        "        print(result)"
      ]
    },
    {
      "cell_type": "markdown",
      "metadata": {},
      "source": [
        "## 10. Fetch all distinct values for Ship Mode from the collection\n"
      ]
    },
    {
      "cell_type": "code",
      "execution_count": 12,
      "metadata": {
        "id": "ioqyu8yLnPmj"
      },
      "outputs": [],
      "source": [
        "def fetch_distinct_ship_modes(db_name, collection_name):\n",
        "    client = MongoClient(\"mongodb://localhost:27017/\")\n",
        "    collection = client[db_name][collection_name]\n",
        "    distinct_modes = collection.distinct(\"Ship Mode\")\n",
        "    print(\"Distinct Ship Modes:\", distinct_modes)"
      ]
    },
    {
      "cell_type": "markdown",
      "metadata": {},
      "source": [
        "## 11. Count the number of orders for each category\n"
      ]
    },
    {
      "cell_type": "code",
      "execution_count": 13,
      "metadata": {
        "id": "5YmWlBgxnTGD"
      },
      "outputs": [],
      "source": [
        "def count_orders_per_category(db_name, collection_name):\n",
        "    client = MongoClient(\"mongodb://localhost:27017/\")\n",
        "    collection = client[db_name][collection_name]\n",
        "    pipeline = [\n",
        "        {\"$group\": {\"_id\": \"$Category\", \"OrderCount\": {\"$sum\": 1}}},\n",
        "        {\"$sort\": {\"OrderCount\": -1}}\n",
        "    ]\n",
        "    results = collection.aggregate(pipeline)\n",
        "    for result in results:\n",
        "        print(result)"
      ]
    }
  ],
  "metadata": {
    "colab": {
      "provenance": []
    },
    "kernelspec": {
      "display_name": "Python 3",
      "name": "python3"
    },
    "language_info": {
      "codemirror_mode": {
        "name": "ipython",
        "version": 3
      },
      "file_extension": ".py",
      "mimetype": "text/x-python",
      "name": "python",
      "nbconvert_exporter": "python",
      "pygments_lexer": "ipython3",
      "version": "3.12.4"
    }
  },
  "nbformat": 4,
  "nbformat_minor": 0
}
